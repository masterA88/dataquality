{
 "cells": [
  {
   "cell_type": "code",
   "execution_count": 15,
   "metadata": {},
   "outputs": [
    {
     "data": {
      "text/html": [
       "<div>\n",
       "<style scoped>\n",
       "    .dataframe tbody tr th:only-of-type {\n",
       "        vertical-align: middle;\n",
       "    }\n",
       "\n",
       "    .dataframe tbody tr th {\n",
       "        vertical-align: top;\n",
       "    }\n",
       "\n",
       "    .dataframe thead th {\n",
       "        text-align: right;\n",
       "    }\n",
       "</style>\n",
       "<table border=\"1\" class=\"dataframe\">\n",
       "  <thead>\n",
       "    <tr style=\"text-align: right;\">\n",
       "      <th></th>\n",
       "      <th>Title</th>\n",
       "      <th>Description</th>\n",
       "      <th>VersionData</th>\n",
       "      <th>FirstPublishLocationId</th>\n",
       "    </tr>\n",
       "  </thead>\n",
       "  <tbody>\n",
       "    <tr>\n",
       "      <th>0</th>\n",
       "      <td>.DS_Store</td>\n",
       "      <td></td>\n",
       "      <td>/Users/ikawahyuni/Downloads/extractzip/.DS_Store</td>\n",
       "      <td></td>\n",
       "    </tr>\n",
       "    <tr>\n",
       "      <th>1</th>\n",
       "      <td>extracted_files_info.csv</td>\n",
       "      <td></td>\n",
       "      <td>/Users/ikawahyuni/Downloads/extractzip/extract...</td>\n",
       "      <td></td>\n",
       "    </tr>\n",
       "  </tbody>\n",
       "</table>\n",
       "</div>"
      ],
      "text/plain": [
       "                      Title Description  \\\n",
       "0                 .DS_Store               \n",
       "1  extracted_files_info.csv               \n",
       "\n",
       "                                         VersionData FirstPublishLocationId  \n",
       "0   /Users/ikawahyuni/Downloads/extractzip/.DS_Store                         \n",
       "1  /Users/ikawahyuni/Downloads/extractzip/extract...                         "
      ]
     },
     "execution_count": 15,
     "metadata": {},
     "output_type": "execute_result"
    }
   ],
   "source": [
    "import os\n",
    "import zipfile\n",
    "import rarfile  # pip install rarfile\n",
    "import pandas as pd\n",
    "\n",
    "def extract_files(directory):\n",
    "    data = []  # List to store data for the DataFrame\n",
    "\n",
    "    # Iterate over all the files in the given directory\n",
    "    for filename in os.listdir(directory):\n",
    "        filepath = os.path.join(directory, filename)\n",
    "        try:\n",
    "            if filename.endswith(\".zip\"):\n",
    "                # If the file is a ZIP file, extract it\n",
    "                with zipfile.ZipFile(filepath, 'r') as zip_ref:\n",
    "                    extract_path = os.path.join(directory, filename[:-4])  # Creates a folder named after the file\n",
    "                    zip_ref.extractall(extract_path)\n",
    "                    print(f\"Extracted {filename} to {extract_path}\")\n",
    "            elif filename.endswith(\".rar\"):\n",
    "                # If the file is a RAR file, extract it\n",
    "                with rarfile.RarFile(filepath, 'r') as rar_ref:\n",
    "                    extract_path = os.path.join(directory, filename[:-4])  # Creates a folder named after the file\n",
    "                    rar_ref.extractall(extract_path)\n",
    "                    print(f\"Extracted {filename} to {extract_path}\")\n",
    "            else:\n",
    "                continue\n",
    "\n",
    "            # After extraction, delete the archive file\n",
    "            os.remove(filepath)\n",
    "            print(f\"Deleted {filename} after extraction.\")\n",
    "\n",
    "        except Exception as e:\n",
    "            print(f\"Failed to process {filename}: {e}\")\n",
    "\n",
    "    # Collect all file paths in the newly created directories\n",
    "    for dirpath, dirnames, filenames in os.walk(directory):\n",
    "        for file in filenames:\n",
    "            if not file.endswith(('.zip', '.rar')):\n",
    "                full_path = os.path.join(dirpath, file)\n",
    "                data.append({\"Title\": file, \n",
    "                             \"Description\": \"\", \n",
    "                             \"VersionData\": full_path, \n",
    "                             \"FirstPublishLocationId\": \"\"})\n",
    "\n",
    "    # Create DataFrame\n",
    "    df = pd.DataFrame(data)\n",
    "    return df\n",
    "\n",
    "# Specify the directory to scan for ZIP and RAR files\n",
    "directory_path = '/Users/ikawahyuni/Downloads/extractzip'\n",
    "df = extract_files(directory_path)\n",
    "\n",
    "# Optionally, save to CSV\n",
    "df=df.iloc[:2]\n",
    "df.to_csv(directory_path+\"/extracted_files_info.csv\", index=False)\n",
    "df\n"
   ]
  },
  {
   "cell_type": "markdown",
   "metadata": {},
   "source": [
    "500MR000003qcx7YAA"
   ]
  }
 ],
 "metadata": {
  "kernelspec": {
   "display_name": "Python 3",
   "language": "python",
   "name": "python3"
  },
  "language_info": {
   "codemirror_mode": {
    "name": "ipython",
    "version": 3
   },
   "file_extension": ".py",
   "mimetype": "text/x-python",
   "name": "python",
   "nbconvert_exporter": "python",
   "pygments_lexer": "ipython3",
   "version": "3.12.2"
  }
 },
 "nbformat": 4,
 "nbformat_minor": 2
}

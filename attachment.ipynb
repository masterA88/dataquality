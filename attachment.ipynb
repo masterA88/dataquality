{
 "cells": [
  {
   "cell_type": "markdown",
   "metadata": {},
   "source": [
    "# Attachment generator"
   ]
  },
  {
   "cell_type": "code",
   "execution_count": null,
   "metadata": {},
   "outputs": [],
   "source": [
    "import os\n",
    "\n",
    "def create_exact_size_file(file_path, size_mb):\n",
    "    # Calculate the exact size in bytes\n",
    "    size_bytes = size_mb * 1024 * 1024\n",
    "\n",
    "    # Open the file in write binary ('wb') mode\n",
    "    with open(file_path, 'wb') as file:\n",
    "        file.seek(size_bytes - 1)  # Move to the position one byte before the desired size\n",
    "        file.write(b'\\0')  # Write a single zero byte at this position\n",
    "\n",
    "def generate_files(directory_path, excel_filename, pdf_filename, target_size_mb):\n",
    "    # Ensure the directory ends with a slash\n",
    "    if not directory_path.endswith('/'):\n",
    "        directory_path += '/'\n",
    "\n",
    "    # Generate exact-sized Excel and PDF files\n",
    "    create_exact_size_file(directory_path + excel_filename, target_size_mb)\n",
    "    create_exact_size_file(directory_path + pdf_filename, target_size_mb)\n",
    "\n",
    "    print(f'Generated Excel file at {directory_path + excel_filename} with size exactly {target_size_mb} MB')\n",
    "    print(f'Generated PDF file at {directory_path + pdf_filename} with size exactly {target_size_mb} MB')\n",
    "\n",
    "# Set the directory where files will be saved\n",
    "directory_path = \"/Users/ikawahyuni/dataquality/dummy_files\"\n",
    "\n",
    "# Set filenames and target size\n",
    "generate_files(directory_path, 'dummy_15mb.xlsx', 'dummy_15mb.pdf', 15)\n"
   ]
  },
  {
   "cell_type": "markdown",
   "metadata": {},
   "source": [
    "# 14 MB"
   ]
  },
  {
   "cell_type": "code",
   "execution_count": 1,
   "metadata": {},
   "outputs": [
    {
     "name": "stdout",
     "output_type": "stream",
     "text": [
      "Generated Excel file at /Users/ikawahyuni/dataquality/dummy_files/dummy_14mb.xlsx with size exactly 14 MB\n",
      "Generated PDF file at /Users/ikawahyuni/dataquality/dummy_files/dummy_14mb.pdf with size exactly 14 MB\n"
     ]
    }
   ],
   "source": [
    "import os\n",
    "\n",
    "def create_exact_size_file(file_path, size_mb):\n",
    "    # Calculate the exact size in bytes\n",
    "    size_bytes = size_mb * 1024 * 1024\n",
    "\n",
    "    # Open the file in write binary ('wb') mode\n",
    "    with open(file_path, 'wb') as file:\n",
    "        file.seek(size_bytes - 1)  # Move to the position one byte before the desired size\n",
    "        file.write(b'\\0')  # Write a single zero byte at this position\n",
    "\n",
    "def generate_files(directory_path, excel_filename, pdf_filename, target_size_mb):\n",
    "    # Ensure the directory ends with a slash\n",
    "    if not directory_path.endswith('/'):\n",
    "        directory_path += '/'\n",
    "\n",
    "    # Generate exact-sized Excel and PDF files\n",
    "    create_exact_size_file(directory_path + excel_filename, target_size_mb)\n",
    "    create_exact_size_file(directory_path + pdf_filename, target_size_mb)\n",
    "\n",
    "    print(f'Generated Excel file at {directory_path + excel_filename} with size exactly {target_size_mb} MB')\n",
    "    print(f'Generated PDF file at {directory_path + pdf_filename} with size exactly {target_size_mb} MB')\n",
    "\n",
    "# Set the directory where files will be saved\n",
    "directory_path = \"/Users/ikawahyuni/dataquality/dummy_files\"\n",
    "\n",
    "# Set filenames and target size (change from 15 to 14)\n",
    "generate_files(directory_path, 'dummy_14mb.xlsx', 'dummy_14mb.pdf', 14)\n"
   ]
  },
  {
   "cell_type": "markdown",
   "metadata": {},
   "source": [
    "# maximum size limit of 10,485,760 bytes (10 MB)"
   ]
  },
  {
   "cell_type": "code",
   "execution_count": 3,
   "metadata": {},
   "outputs": [
    {
     "name": "stdout",
     "output_type": "stream",
     "text": [
      "Generated Excel file at /Users/ikawahyuni/dataquality/dummy_files/dummy.xlsx with size up to 10 MB\n",
      "Generated PDF file at /Users/ikawahyuni/dataquality/dummy_files/dummy.pdf with size up to 10 MB\n"
     ]
    }
   ],
   "source": [
    "import os\n",
    "\n",
    "def create_exact_size_file(file_path, size_mb):\n",
    "    # Maximum size in bytes (10 MB)\n",
    "    max_size_bytes = 9485760\n",
    "\n",
    "    # Calculate the desired size in bytes\n",
    "    size_bytes = size_mb * 1024 * 1024\n",
    "\n",
    "    # Adjust size if it exceeds the maximum allowed\n",
    "    if size_bytes > max_size_bytes:\n",
    "        size_bytes = max_size_bytes\n",
    "\n",
    "    # Open the file in write binary ('wb') mode\n",
    "    with open(file_path, 'wb') as file:\n",
    "        file.seek(size_bytes - 1)  # Move to the position one byte before the desired size\n",
    "        file.write(b'\\0')  # Write a single zero byte at this position\n",
    "\n",
    "def generate_files(directory_path, excel_filename, pdf_filename, target_size_mb):\n",
    "    # Ensure the directory ends with a slash\n",
    "    if not directory_path.endswith('/'):\n",
    "        directory_path += '/'\n",
    "\n",
    "    # Generate exact-sized Excel and PDF files\n",
    "    create_exact_size_file(directory_path + excel_filename, target_size_mb)\n",
    "    create_exact_size_file(directory_path + pdf_filename, target_size_mb)\n",
    "\n",
    "    actual_size_mb = min(target_size_mb, 10)  # Limit the reported size to 10 MB max\n",
    "    print(f'Generated Excel file at {directory_path + excel_filename} with size up to {actual_size_mb} MB')\n",
    "    print(f'Generated PDF file at {directory_path + pdf_filename} with size up to {actual_size_mb} MB')\n",
    "\n",
    "# Set the directory where files will be saved\n",
    "directory_path = \"/Users/ikawahyuni/dataquality/dummy_files\"\n",
    "\n",
    "# Set filenames and target size (e.g., 12 MB would be reduced to 10 MB)\n",
    "generate_files(directory_path, 'dummy.xlsx', 'dummy.pdf', 12)\n"
   ]
  },
  {
   "cell_type": "markdown",
   "metadata": {},
   "source": [
    "## Tool to collect all tickets "
   ]
  },
  {
   "cell_type": "code",
   "execution_count": 12,
   "metadata": {},
   "outputs": [
    {
     "name": "stdout",
     "output_type": "stream",
     "text": [
      "Extracted ReportTest.zip to D:\\Salesforce\\dataquality\\Tool for attachments\\ReportTest\n",
      "Data from D:\\Salesforce\\dataquality\\Tool for attachments\\ReportTest\\ReportTest.arx saved to CSV at D:\\Salesforce\\dataquality\\Tool for attachments\\ReportTest_files_info.csv\n"
     ]
    }
   ],
   "source": [
    "import os\n",
    "import zipfile\n",
    "import rarfile  # pip install rarfile\n",
    "import pandas as pd\n",
    "\n",
    "def extract_and_process_files(directory):\n",
    "    # Iterate over all the files in the given directory\n",
    "    for filename in os.listdir(directory):\n",
    "        filepath = os.path.join(directory, filename)\n",
    "        extract_path = os.path.join(directory, filename[:-4])  # Folder to extract files\n",
    "\n",
    "        # Check file type and extract accordingly\n",
    "        if filename.endswith(\".zip\"):\n",
    "            with zipfile.ZipFile(filepath, 'r') as zip_ref:\n",
    "                zip_ref.extractall(extract_path)\n",
    "                print(f\"Extracted {filename} to {extract_path}\")\n",
    "        elif filename.endswith(\".rar\"):\n",
    "            with rarfile.RarFile(filepath, 'r') as rar_ref:\n",
    "                rar_ref.extractall(extract_path)\n",
    "                print(f\"Extracted {filename} to {extract_path}\")\n",
    "        else:\n",
    "            continue\n",
    "        \n",
    "        # Look for the specific ReportTest.arx file in the extracted files\n",
    "        report_file_path = find_report_file(extract_path)\n",
    "        if report_file_path:\n",
    "            df = create_dataframe_from_file(report_file_path, extract_path)\n",
    "            csv_path = os.path.join(directory, filename[:-4] + '_files_info.csv')\n",
    "            df.to_csv(csv_path, index=False)\n",
    "            print(f\"Data from {report_file_path} saved to CSV at {csv_path}\")\n",
    "        else:\n",
    "            print(f\"No 'ReportTest.arx' found in {extract_path}\")\n",
    "\n",
    "def find_report_file(directory):\n",
    "    for root, dirs, files in os.walk(directory):\n",
    "        for file in files:\n",
    "            if file == 'ReportTest.arx':\n",
    "                return os.path.join(root, file)\n",
    "    return None\n",
    "\n",
    "def create_dataframe_from_file(file_path, extract_path):\n",
    "    with open(file_path, 'r') as file:\n",
    "        lines = file.readlines()\n",
    "\n",
    "    titles = []\n",
    "    descriptions = []\n",
    "    version_data = []\n",
    "    first_publish_location_ids = []\n",
    "\n",
    "    for line in lines:\n",
    "        if line.startswith(\"DATA\"):\n",
    "            parts = line.strip().split('\"')\n",
    "            ticket_number = parts[1].strip()\n",
    "            file_name = parts[3].strip().partition(' ')[2]  # Extracting everything after \"1 \"\n",
    "\n",
    "            full_path = os.path.join(extract_path, file_name)\n",
    "\n",
    "            titles.append(file_name)\n",
    "            descriptions.append(\"\")\n",
    "            version_data.append(full_path)\n",
    "            first_publish_location_ids.append(ticket_number)\n",
    "\n",
    "    return pd.DataFrame({\n",
    "        'Title': titles,\n",
    "        'Description': descriptions,\n",
    "        'VersionData': version_data,\n",
    "        'FirstPublishLocationId': first_publish_location_ids\n",
    "    })\n",
    "\n",
    "# Path to your directory containing ZIP and RAR files\n",
    "directory_path = 'D:\\Salesforce\\dataquality\\Tool for attachments' \n",
    "extract_and_process_files(directory_path)\n"
   ]
  }
 ],
 "metadata": {
  "kernelspec": {
   "display_name": "Python 3",
   "language": "python",
   "name": "python3"
  },
  "language_info": {
   "codemirror_mode": {
    "name": "ipython",
    "version": 3
   },
   "file_extension": ".py",
   "mimetype": "text/x-python",
   "name": "python",
   "nbconvert_exporter": "python",
   "pygments_lexer": "ipython3",
   "version": "3.10.5"
  }
 },
 "nbformat": 4,
 "nbformat_minor": 2
}

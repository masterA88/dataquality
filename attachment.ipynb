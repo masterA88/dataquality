{
 "cells": [
  {
   "cell_type": "markdown",
   "metadata": {},
   "source": [
    "# Attachment generator"
   ]
  },
  {
   "cell_type": "code",
   "execution_count": null,
   "metadata": {},
   "outputs": [],
   "source": [
    "import os\n",
    "\n",
    "def create_exact_size_file(file_path, size_mb):\n",
    "    # Calculate the exact size in bytes\n",
    "    size_bytes = size_mb * 1024 * 1024\n",
    "\n",
    "    # Open the file in write binary ('wb') mode\n",
    "    with open(file_path, 'wb') as file:\n",
    "        file.seek(size_bytes - 1)  # Move to the position one byte before the desired size\n",
    "        file.write(b'\\0')  # Write a single zero byte at this position\n",
    "\n",
    "def generate_files(directory_path, excel_filename, pdf_filename, target_size_mb):\n",
    "    # Ensure the directory ends with a slash\n",
    "    if not directory_path.endswith('/'):\n",
    "        directory_path += '/'\n",
    "\n",
    "    # Generate exact-sized Excel and PDF files\n",
    "    create_exact_size_file(directory_path + excel_filename, target_size_mb)\n",
    "    create_exact_size_file(directory_path + pdf_filename, target_size_mb)\n",
    "\n",
    "    print(f'Generated Excel file at {directory_path + excel_filename} with size exactly {target_size_mb} MB')\n",
    "    print(f'Generated PDF file at {directory_path + pdf_filename} with size exactly {target_size_mb} MB')\n",
    "\n",
    "# Set the directory where files will be saved\n",
    "directory_path = \"/Users/ikawahyuni/dataquality/dummy_files\"\n",
    "\n",
    "# Set filenames and target size\n",
    "generate_files(directory_path, 'dummy_15mb.xlsx', 'dummy_15mb.pdf', 15)\n"
   ]
  },
  {
   "cell_type": "markdown",
   "metadata": {},
   "source": [
    "# 14 MB"
   ]
  },
  {
   "cell_type": "code",
   "execution_count": 1,
   "metadata": {},
   "outputs": [
    {
     "name": "stdout",
     "output_type": "stream",
     "text": [
      "Generated Excel file at /Users/ikawahyuni/dataquality/dummy_files/dummy_14mb.xlsx with size exactly 14 MB\n",
      "Generated PDF file at /Users/ikawahyuni/dataquality/dummy_files/dummy_14mb.pdf with size exactly 14 MB\n"
     ]
    }
   ],
   "source": [
    "import os\n",
    "\n",
    "def create_exact_size_file(file_path, size_mb):\n",
    "    # Calculate the exact size in bytes\n",
    "    size_bytes = size_mb * 1024 * 1024\n",
    "\n",
    "    # Open the file in write binary ('wb') mode\n",
    "    with open(file_path, 'wb') as file:\n",
    "        file.seek(size_bytes - 1)  # Move to the position one byte before the desired size\n",
    "        file.write(b'\\0')  # Write a single zero byte at this position\n",
    "\n",
    "def generate_files(directory_path, excel_filename, pdf_filename, target_size_mb):\n",
    "    # Ensure the directory ends with a slash\n",
    "    if not directory_path.endswith('/'):\n",
    "        directory_path += '/'\n",
    "\n",
    "    # Generate exact-sized Excel and PDF files\n",
    "    create_exact_size_file(directory_path + excel_filename, target_size_mb)\n",
    "    create_exact_size_file(directory_path + pdf_filename, target_size_mb)\n",
    "\n",
    "    print(f'Generated Excel file at {directory_path + excel_filename} with size exactly {target_size_mb} MB')\n",
    "    print(f'Generated PDF file at {directory_path + pdf_filename} with size exactly {target_size_mb} MB')\n",
    "\n",
    "# Set the directory where files will be saved\n",
    "directory_path = \"/Users/ikawahyuni/dataquality/dummy_files\"\n",
    "\n",
    "# Set filenames and target size (change from 15 to 14)\n",
    "generate_files(directory_path, 'dummy_14mb.xlsx', 'dummy_14mb.pdf', 14)\n"
   ]
  },
  {
   "cell_type": "markdown",
   "metadata": {},
   "source": [
    "# maximum size limit of 10,485,760 bytes (10 MB)"
   ]
  },
  {
   "cell_type": "code",
   "execution_count": 3,
   "metadata": {},
   "outputs": [
    {
     "name": "stdout",
     "output_type": "stream",
     "text": [
      "Generated Excel file at /Users/ikawahyuni/dataquality/dummy_files/dummy.xlsx with size up to 10 MB\n",
      "Generated PDF file at /Users/ikawahyuni/dataquality/dummy_files/dummy.pdf with size up to 10 MB\n"
     ]
    }
   ],
   "source": [
    "import os\n",
    "\n",
    "def create_exact_size_file(file_path, size_mb):\n",
    "    # Maximum size in bytes (10 MB)\n",
    "    max_size_bytes = 9485760\n",
    "\n",
    "    # Calculate the desired size in bytes\n",
    "    size_bytes = size_mb * 1024 * 1024\n",
    "\n",
    "    # Adjust size if it exceeds the maximum allowed\n",
    "    if size_bytes > max_size_bytes:\n",
    "        size_bytes = max_size_bytes\n",
    "\n",
    "    # Open the file in write binary ('wb') mode\n",
    "    with open(file_path, 'wb') as file:\n",
    "        file.seek(size_bytes - 1)  # Move to the position one byte before the desired size\n",
    "        file.write(b'\\0')  # Write a single zero byte at this position\n",
    "\n",
    "def generate_files(directory_path, excel_filename, pdf_filename, target_size_mb):\n",
    "    # Ensure the directory ends with a slash\n",
    "    if not directory_path.endswith('/'):\n",
    "        directory_path += '/'\n",
    "\n",
    "    # Generate exact-sized Excel and PDF files\n",
    "    create_exact_size_file(directory_path + excel_filename, target_size_mb)\n",
    "    create_exact_size_file(directory_path + pdf_filename, target_size_mb)\n",
    "\n",
    "    actual_size_mb = min(target_size_mb, 10)  # Limit the reported size to 10 MB max\n",
    "    print(f'Generated Excel file at {directory_path + excel_filename} with size up to {actual_size_mb} MB')\n",
    "    print(f'Generated PDF file at {directory_path + pdf_filename} with size up to {actual_size_mb} MB')\n",
    "\n",
    "# Set the directory where files will be saved\n",
    "directory_path = \"/Users/ikawahyuni/dataquality/dummy_files\"\n",
    "\n",
    "# Set filenames and target size (e.g., 12 MB would be reduced to 10 MB)\n",
    "generate_files(directory_path, 'dummy.xlsx', 'dummy.pdf', 12)\n"
   ]
  },
  {
   "cell_type": "code",
   "execution_count": 15,
   "metadata": {},
   "outputs": [
    {
     "data": {
      "text/html": [
       "<div>\n",
       "<style scoped>\n",
       "    .dataframe tbody tr th:only-of-type {\n",
       "        vertical-align: middle;\n",
       "    }\n",
       "\n",
       "    .dataframe tbody tr th {\n",
       "        vertical-align: top;\n",
       "    }\n",
       "\n",
       "    .dataframe thead th {\n",
       "        text-align: right;\n",
       "    }\n",
       "</style>\n",
       "<table border=\"1\" class=\"dataframe\">\n",
       "  <thead>\n",
       "    <tr style=\"text-align: right;\">\n",
       "      <th></th>\n",
       "      <th>Title</th>\n",
       "      <th>Description</th>\n",
       "      <th>VersionData</th>\n",
       "      <th>FirstPublishLocationId</th>\n",
       "    </tr>\n",
       "  </thead>\n",
       "  <tbody>\n",
       "    <tr>\n",
       "      <th>0</th>\n",
       "      <td>.DS_Store</td>\n",
       "      <td></td>\n",
       "      <td>/Users/ikawahyuni/Downloads/extractzip/.DS_Store</td>\n",
       "      <td></td>\n",
       "    </tr>\n",
       "    <tr>\n",
       "      <th>1</th>\n",
       "      <td>extracted_files_info.csv</td>\n",
       "      <td></td>\n",
       "      <td>/Users/ikawahyuni/Downloads/extractzip/extract...</td>\n",
       "      <td></td>\n",
       "    </tr>\n",
       "  </tbody>\n",
       "</table>\n",
       "</div>"
      ],
      "text/plain": [
       "                      Title Description  \\\n",
       "0                 .DS_Store               \n",
       "1  extracted_files_info.csv               \n",
       "\n",
       "                                         VersionData FirstPublishLocationId  \n",
       "0   /Users/ikawahyuni/Downloads/extractzip/.DS_Store                         \n",
       "1  /Users/ikawahyuni/Downloads/extractzip/extract...                         "
      ]
     },
     "execution_count": 15,
     "metadata": {},
     "output_type": "execute_result"
    }
   ],
   "source": [
    "import os\n",
    "import zipfile\n",
    "import rarfile  # pip install rarfile\n",
    "import pandas as pd\n",
    "\n",
    "def extract_files(directory):\n",
    "    data = []  # List to store data for the DataFrame\n",
    "\n",
    "    # Iterate over all the files in the given directory\n",
    "    for filename in os.listdir(directory):\n",
    "        filepath = os.path.join(directory, filename)\n",
    "        try:\n",
    "            if filename.endswith(\".zip\"):\n",
    "                # If the file is a ZIP file, extract it\n",
    "                with zipfile.ZipFile(filepath, 'r') as zip_ref:\n",
    "                    extract_path = os.path.join(directory, filename[:-4])  # Creates a folder named after the file\n",
    "                    zip_ref.extractall(extract_path)\n",
    "                    print(f\"Extracted {filename} to {extract_path}\")\n",
    "            elif filename.endswith(\".rar\"):\n",
    "                # If the file is a RAR file, extract it\n",
    "                with rarfile.RarFile(filepath, 'r') as rar_ref:\n",
    "                    extract_path = os.path.join(directory, filename[:-4])  # Creates a folder named after the file\n",
    "                    rar_ref.extractall(extract_path)\n",
    "                    print(f\"Extracted {filename} to {extract_path}\")\n",
    "            else:\n",
    "                continue\n",
    "\n",
    "            # After extraction, delete the archive file\n",
    "            os.remove(filepath)\n",
    "            print(f\"Deleted {filename} after extraction.\")\n",
    "\n",
    "        except Exception as e:\n",
    "            print(f\"Failed to process {filename}: {e}\")\n",
    "\n",
    "    # Collect all file paths in the newly created directories\n",
    "    for dirpath, dirnames, filenames in os.walk(directory):\n",
    "        for file in filenames:\n",
    "            if not file.endswith(('.zip', '.rar')):\n",
    "                full_path = os.path.join(dirpath, file)\n",
    "                data.append({\"Title\": file, \n",
    "                             \"Description\": \"\", \n",
    "                             \"VersionData\": full_path, \n",
    "                             \"FirstPublishLocationId\": \"\"})\n",
    "\n",
    "    # Create DataFrame\n",
    "    df = pd.DataFrame(data)\n",
    "    return df\n",
    "\n",
    "# Specify the directory to scan for ZIP and RAR files\n",
    "directory_path = '/Users/ikawahyuni/Downloads/extractzip'\n",
    "df = extract_files(directory_path)\n",
    "\n",
    "# Optionally, save to CSV\n",
    "df=df.iloc[:2]\n",
    "df.to_csv(directory_path+\"/extracted_files_info.csv\", index=False)\n",
    "df\n"
   ]
  },
  {
   "cell_type": "markdown",
   "metadata": {},
   "source": [
    "500MR000003qcx7YAA"
   ]
  }
 ],
 "metadata": {
  "kernelspec": {
   "display_name": "Python 3",
   "language": "python",
   "name": "python3"
  },
  "language_info": {
   "codemirror_mode": {
    "name": "ipython",
    "version": 3
   },
   "file_extension": ".py",
   "mimetype": "text/x-python",
   "name": "python",
   "nbconvert_exporter": "python",
   "pygments_lexer": "ipython3",
   "version": "3.12.2"
  }
 },
 "nbformat": 4,
 "nbformat_minor": 2
}
